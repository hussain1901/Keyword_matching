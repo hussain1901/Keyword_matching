{
 "cells": [
  {
   "cell_type": "code",
   "execution_count": 1,
   "metadata": {
    "collapsed": false
   },
   "outputs": [
    {
     "data": {
      "text/plain": [
       "[('automation', 10),\n",
       " ('rpa', 8),\n",
       " ('data', 5),\n",
       " ('money', 1),\n",
       " ('regulatory', 1),\n",
       " ('laundering', 1),\n",
       " ('learning', 1),\n",
       " ('analytics', 1),\n",
       " ('machine', 1),\n",
       " ('compliance', 1),\n",
       " ('transactions', 1),\n",
       " ('aml', 1)]"
      ]
     },
     "execution_count": 1,
     "metadata": {},
     "output_type": "execute_result"
    }
   ],
   "source": [
    "import pandas as pd\n",
    "import numpy as np\n",
    "import re\n",
    "import string\n",
    "from nltk.tokenize import word_tokenize\n",
    "from nltk.tokenize import RegexpTokenizer\n",
    "from nltk.corpus import stopwords\n",
    "\n",
    "\n",
    "keywords = ['loan','lending','payments', 'transaction', 'transactions','cards','retail banking','lending','commercial','b2b','','cloud','hybrid','rpa', 'automation','blockchain','machine','learning','ml','ai','artificial','intelligence'\n",
    "           ,'public','private','card','money','retail','banking','commercial','analytics','api', 'antimoney','laundering','aml','mobility','social', 'media','mobile','nlp', 'open', 'architecture','iot', 'internet', 'things', 'cybersecurity','augmented','reality','virtual', 'cyber','security', 'quantum', 'computing','regulatory','risk', 'compliance', 'infratsructure','ERP', 'data']\n",
    "\n",
    "paragraph = \"\"\"\n",
    "\n",
    "RVINE, Calif., May 07, 2019 (GLOBE NEWSWIRE) -- Kofax®, a leading supplier of Intelligent Automation software to digitally transform end-to-end business operations, today announced customer ABN AMRO Bank NV has scaled its digital workforce with an increased investment in Kofax Robotic Process Automation (RPA). After realizing savings of thousands of employee-hours per week with Kofax RPA and improving the customer experience, ABN AMRO is doubling-down on its success and investing further in Kofax Intelligent Automation.\n",
    "\n",
    "ABN AMRO had long relied on its human workforce to perform time-intensive information gathering tasks. The workforce was doing everything it could to maintain high service levels of accuracy and speed but required additional capacity to handle the heavy workload and strict regulatory requirements. To add capacity without increasing headcount, ABN AMRO leveraged Kofax RPA in 2016, streamlining the bank’s onboarding process and automating Customer Due Diligence (CDD), Know Your Customer (KYC) and Anti-Money Laundering (AML) investigations. This effort has saved the bank thousands of person-hours each week and streamlined processes to improve the customer experience. The successful relationship, combined with the bank’s confidence in Kofax to solve business process related issues, led ABN AMRO to scale its Kofax-powered digital workforce enterprise wide.\n",
    "\n",
    "“By simplifying and streamlining our operational efforts with Kofax RPA, we’ve seen tremendous gains in efficiency. This success has caused a positive effect in the further widespread use of the technology,” said Pascal Smissaert, IT Engineering Lead Robotics and RADD at ABN AMRO. “By taking a more comprehensive approach to automation, we can increase productivity and further enhance the customer experience.”\n",
    "\n",
    "“Large enterprises, such as ABN AMRO, typically execute complex transactions that require an automation solution beyond what RPA alone can handle. Kofax Intelligent Automation provides a platform that bundles smart automation solutions such as RPA, process orchestration, intelligent optical character recognition, machine learning, eSignature and advanced analytics into a seamless platform capability,” said Chris Huff, Chief Strategy Officer at Kofax. “With Kofax Intelligent Automation, ABN AMRO has been able to help employees achieve a better work experience by shifting them from low-value transactional work to higher-value judgment-based work. Through our successful ABN AMRO deployment and extended engagement, we’re demonstrating to the larger marketplace that, when leveraged as an integral piece of a comprehensive Intelligent Automation solution, RPA can effectively scale to meet the growing needs of global enterprises.”\n",
    "\n",
    "Business processes built around manual work are often “alleviated” by adding human labor. Unfortunately process bottlenecks, data entry errors and higher costs are often results that can significantly impact processing times, compliance, customer responsiveness, return on investment (ROI) and ultimately, the ability to innovate. By automating manual data entry with Kofax RPA and blending it with Kofax business process automation, organizations can deploy an intelligent digital workforce that eliminates data entry errors, delivers 100 percent data accuracy and reduces processing times – at a fraction of the cost of a human workforce. Benefits include swift implementation via one vendor and speedy ROI, as well as the ability to free employees from data entry to deliver better employee satisfaction and a stellar customer experience.\n",
    "\"\"\"\n",
    "\n",
    "\n",
    "\n",
    "def preprocess_text(text):\n",
    "    text = re.sub('((www\\.[^\\s]+)|(https?://[^\\s]+))','URL', text)\n",
    "    text = re.sub('@[^\\s]+','USER', text)\n",
    "   \n",
    "   \n",
    "    tokenizer = RegexpTokenizer(r'\\w+')\n",
    "    removed_punc = tokenizer.tokenize(text)\n",
    "    text = ' '.join(removed_punc)\n",
    "\n",
    "   \n",
    "    text = re.sub('[^a-zA-Zа-яА-Я1-9]+', ' ', text)\n",
    "    text = re.sub(' +',' ', text)\n",
    "    text = re.sub(r'\\d+', ' ', text)\n",
    "   \n",
    "   \n",
    "    stop_words = set(stopwords.words('english'))\n",
    "    tokens = word_tokenize(text)\n",
    "    result = [i for i in tokens if not i in stop_words]\n",
    "    text = ' '.join(result)\n",
    "    text = text.lower()\n",
    "   \n",
    "    return text.strip()\n",
    "\n",
    "data = preprocess_text(paragraph)\n",
    "\n",
    "d=dict()\n",
    "l=[]\n",
    "for line in data.split():\n",
    "    #print(line)\n",
    "    if line in d:\n",
    "        d[line] += 1\n",
    "    else:\n",
    "        d[line] = 1\n",
    "\n",
    "for w in sorted(d, key=d.get,reverse=True):\n",
    "    if w in keywords:\n",
    "        l.append((w,d[w]))\n",
    "l"
   ]
  },
  {
   "cell_type": "code",
   "execution_count": null,
   "metadata": {
    "collapsed": true
   },
   "outputs": [],
   "source": []
  }
 ],
 "metadata": {
  "anaconda-cloud": {},
  "kernelspec": {
   "display_name": "Python [conda root]",
   "language": "python",
   "name": "conda-root-py"
  },
  "language_info": {
   "codemirror_mode": {
    "name": "ipython",
    "version": 3
   },
   "file_extension": ".py",
   "mimetype": "text/x-python",
   "name": "python",
   "nbconvert_exporter": "python",
   "pygments_lexer": "ipython3",
   "version": "3.5.6"
  }
 },
 "nbformat": 4,
 "nbformat_minor": 1
}
